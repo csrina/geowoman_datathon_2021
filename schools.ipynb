{
 "metadata": {
  "language_info": {
   "codemirror_mode": {
    "name": "ipython",
    "version": 3
   },
   "file_extension": ".py",
   "mimetype": "text/x-python",
   "name": "python",
   "nbconvert_exporter": "python",
   "pygments_lexer": "ipython3",
   "version": "3.9.5"
  },
  "orig_nbformat": 2,
  "kernelspec": {
   "name": "python395jvsc74a57bd0fa24f3046133c26a827515979fe6c2fbf9b1e10b7eb180ad8dc557c6bc831cd3",
   "display_name": "Python 3.9.5 64-bit"
  },
  "metadata": {
   "interpreter": {
    "hash": "fa24f3046133c26a827515979fe6c2fbf9b1e10b7eb180ad8dc557c6bc831cd3"
   }
  }
 },
 "nbformat": 4,
 "nbformat_minor": 2,
 "cells": [
  {
   "cell_type": "code",
   "execution_count": 1,
   "metadata": {},
   "outputs": [],
   "source": [
    "import pandas as pd"
   ]
  },
  {
   "cell_type": "code",
   "execution_count": 8,
   "metadata": {},
   "outputs": [],
   "source": [
    "class_size_df = pd.read_csv('data/csis_all.csv', low_memory=False)\n",
    "class_size_df.drop_duplicates(keep=\"first\", inplace=True)\n",
    "auth_pop_df = pd.read_excel('data/authority-student-population-data.xlsx')\n",
    "student_pop_df = pd.read_excel('data/student-population-data.xlsx')"
   ]
  }
 ]
}